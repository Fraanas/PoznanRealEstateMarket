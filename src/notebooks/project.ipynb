{
 "cells": [
  {
   "cell_type": "code",
   "id": "initial_id",
   "metadata": {
    "collapsed": true,
    "ExecuteTime": {
     "end_time": "2025-03-09T19:41:42.086200Z",
     "start_time": "2025-03-09T19:41:42.083424Z"
    }
   },
   "source": [
    "import requests\n",
    "from bs4 import BeautifulSoup\n",
    "from urllib.parse import urljoin\n",
    "import pandas as pd\n",
    "import numpy as np\n",
    "\n",
    "# User agent\n",
    "HEADERS = {'User-Agent': 'Mozilla/5.0'}\n",
    "    \n",
    "# Webpage URL of poznan properties and base URL of the page\n",
    "BASE_URL = 'https://www.otodom.pl'\n",
    "MAIN_URL = 'https://www.otodom.pl/pl/wyniki/sprzedaz/mieszkanie/wielkopolskie/poznan/poznan/poznan?viewType=listing%2Fpage%3D3%2Fpage%3D2&'\n"
   ],
   "outputs": [],
   "execution_count": 12
  },
  {
   "metadata": {
    "ExecuteTime": {
     "end_time": "2025-03-09T19:41:43.006329Z",
     "start_time": "2025-03-09T19:41:42.101719Z"
    }
   },
   "cell_type": "code",
   "outputs": [
    {
     "name": "stdout",
     "output_type": "stream",
     "text": [
      "Successfully fetched the page\n"
     ]
    }
   ],
   "execution_count": 13,
   "source": [
    "response = requests.get(MAIN_URL, headers=HEADERS)\n",
    "if response.status_code == 200:\n",
    "    print(\"Successfully fetched the page\")\n",
    "else:\n",
    "    print(f\"Failed to fetch page {print(f\"Failed to fetch the page with status code {response.status_code}\")}\")\n"
   ],
   "id": "e036059c7d6e4d83"
  },
  {
   "metadata": {
    "ExecuteTime": {
     "end_time": "2025-03-09T19:56:49.788587Z",
     "start_time": "2025-03-09T19:56:49.368771Z"
    }
   },
   "cell_type": "code",
   "source": [
    "soup = BeautifulSoup(response.text, \"html.parser\")\n",
    "links = soup.find_all('a', attrs={'data-cy' : 'listing-item-link'})\n",
    "link = links[10].get('href')\n",
    "product = BASE_URL + link\n",
    "new_response = requests.get(product, headers=HEADERS)\n",
    "new_soup = BeautifulSoup(new_response.text, \"html.parser\")\n",
    "id = new_soup.find(\"p\", attrs={\"class\": \"e1aeqjrs2 css-htq2ld\"}).text.replace('ID: ', '')\n",
    "price = new_soup.find('strong', attrs={\"class\" : \"css-1o51x5a e1k1vyr21\"}).text.replace(\" zł\", \"\").replace(\" \", \"\")\n",
    "sqr_meters = new_soup.find('div', attrs={\"class\" : \"css-1ftqasz\"}).text\n",
    "num_rooms = new_soup('div', attrs={\"class\" : \"css-1ftqasz\"})[1].text.replace(\" pokój\", \"\")\n",
    "price_square_ratio = new_soup.find('div', attrs={\"class\" : \"css-z3xj2a e1k1vyr25\"}).text.replace(' zł/m²', '').replace(' ', '')\n",
    "location = new_soup.find('a', attrs={\"class\" : \"css-1jjm9oe e42rcgs1\"}).text\n",
    "print(id)\n",
    "print(price)\n",
    "print(sqr_meters)\n",
    "print(num_rooms)\n",
    "print(price_square_ratio)\n",
    "print(location)"
   ],
   "id": "dfdb7354ec9a41d9",
   "outputs": [
    {
     "name": "stdout",
     "output_type": "stream",
     "text": [
      "66542152\n",
      "875000\n",
      "59m²\n",
      "3 pokoje\n",
      "14831\n",
      "ul. Smardzewska 7, Raszyn, Grunwald, Poznań, wielkopolskie\n"
     ]
    }
   ],
   "execution_count": 39
  },
  {
   "metadata": {
    "ExecuteTime": {
     "end_time": "2025-03-09T19:41:46.327715Z",
     "start_time": "2025-03-09T19:41:46.323614Z"
    }
   },
   "cell_type": "code",
   "source": [
    "info = new_soup('p', attrs = {\"class\" : \"eows69w2 css-1airkmu\"})\n",
    "info_dict = {}\n",
    "\n",
    "for i in range(0, len(info)-1, 2):\n",
    "    key = info[i].text.strip().replace(\"<!-- -->:\", \"\").strip().upper()\n",
    "    value = info[i+1].text.strip()\n",
    "    if not value:\n",
    "        value = 'null'\n",
    "    info_dict[key] = value\n",
    "    \n",
    "print(info_dict)\n",
    "print(len(info_dict))"
   ],
   "id": "6a13d42125bef64e",
   "outputs": [
    {
     "name": "stdout",
     "output_type": "stream",
     "text": [
      "{'OGRZEWANIE:': 'gazowe', 'PIĘTRO:': 'parter/1', 'CZYNSZ:': 'Stan wykończenia:', 'DO ZAMIESZKANIA': 'Rynek:', 'WTÓRNY': 'Forma własności:', 'PEŁNA WŁASNOŚĆ': 'Dostępne od:', 'TYP OGŁOSZENIODAWCY:': 'biuro nieruchomości', 'INFORMACJE DODATKOWE:': 'balkon ogródek garaż/miejsce parkingowe', 'WINDA:': 'nie', 'RODZAJ ZABUDOWY:': 'apartamentowiec', 'MATERIAŁ BUDYNKU:': 'cegła', 'OKNA:': 'plastikowe', 'CERTYFIKAT ENERGETYCZNY:': 'A+', 'BEZPIECZEŃSTWO:': 'teren zamknięty', 'WYPOSAŻENIE:': 'zmywarka lodówka meble piekarnik kuchenka', 'ZABEZPIECZENIA:': 'system alarmowy drzwi / okna antywłamaniowe domofon / wideofon', 'MEDIA:': 'telewizja kablowa internet telefon'}\n",
      "17\n"
     ]
    }
   ],
   "execution_count": 19
  },
  {
   "metadata": {
    "ExecuteTime": {
     "end_time": "2025-03-09T21:47:51.258782Z",
     "start_time": "2025-03-09T21:47:51.243466Z"
    }
   },
   "cell_type": "code",
   "source": [
    "df = pd.read_csv(r'/Users/franekbiskup/Desktop/Portfolio/PolandPropertyScraper/project/data/poznan_properties.csv')\n",
    "df.dtypes"
   ],
   "id": "8164c5460fe98a9",
   "outputs": [
    {
     "data": {
      "text/plain": [
       "property_id        int64\n",
       "price            float64\n",
       "square           float64\n",
       "price_per_sqm    float64\n",
       "rooms              int64\n",
       "date              object\n",
       "url               object\n",
       "street            object\n",
       "district_1        object\n",
       "district_2        object\n",
       "city              object\n",
       "state             object\n",
       "dtype: object"
      ]
     },
     "execution_count": 40,
     "metadata": {},
     "output_type": "execute_result"
    }
   ],
   "execution_count": 40
  },
  {
   "metadata": {
    "ExecuteTime": {
     "end_time": "2025-03-09T19:37:50.400277Z",
     "start_time": "2025-03-09T19:37:50.395876Z"
    }
   },
   "cell_type": "code",
   "source": [
    "def get_links(main_url= MAIN_URL, base_url= BASE_URL):\n",
    "    \n",
    "    # HTTP request\n",
    "    response = requests.get(main_url, headers=HEADERS)\n",
    "    if response.status_code == 200:\n",
    "        print(\"Successfully fetched the page\")\n",
    "    else:\n",
    "        print(f\"Failed to fetch page {print(f\"Failed to fetch the page with status code {response.status_code}\")}\")\n",
    "    \n",
    "    # BS4 object containing all data\n",
    "    soup = BeautifulSoup(response.text, \"html.parser\")\n",
    "    \n",
    "    # Fetch all links as list of Tag Objects\n",
    "    hrefs_list = []\n",
    "    links = soup.find_all('a', attrs={'data-cy' : 'listing-item-link'})\n",
    "    \n",
    "    # Loop for extracting links from Tag Objects\n",
    "    for link in links:\n",
    "        hrefs_list.append(link['href'])\n",
    "        \n",
    "    links_list = [urljoin(base_url, href) for href in hrefs_list]\n",
    "\n",
    "    return links_list"
   ],
   "id": "3c1dace0578a8af0",
   "outputs": [],
   "execution_count": 3
  },
  {
   "metadata": {
    "ExecuteTime": {
     "end_time": "2025-03-09T19:37:51.178241Z",
     "start_time": "2025-03-09T19:37:50.416131Z"
    }
   },
   "cell_type": "code",
   "source": "get_links()",
   "id": "192ea5a03e8b18e8",
   "outputs": [
    {
     "name": "stdout",
     "output_type": "stream",
     "text": [
      "Successfully fetched the page\n"
     ]
    },
    {
     "data": {
      "text/plain": [
       "['https://www.otodom.pl/pl/oferta/wilda80-m-4-pokoje-2-balkony-zamkniete-osiedle-ID4uOMS',\n",
       " 'https://www.otodom.pl/pl/oferta/duze-pokoje-cale-wyposazenie-w-cenie-piwnica-ID4wfpk',\n",
       " 'https://www.otodom.pl/pl/oferta/3-pok-marcelinska-ataner-ID4uOcg',\n",
       " 'https://www.otodom.pl/pl/oferta/katowicka-ataner-polanka-2-dwa-mieszkania-roi-6-ID4hnR5',\n",
       " 'https://www.otodom.pl/pl/oferta/wilda80-m-4-pokoje-2-balkony-zamkniete-osiedle-ID4uOMS',\n",
       " 'https://www.otodom.pl/pl/oferta/komfortowy-apt-blisko-parku-solackiego-ochrona-24h-ID4w81l',\n",
       " 'https://www.otodom.pl/pl/oferta/mieszkanie-na-jezycach-bez-posrednikow-ID4ubfE',\n",
       " 'https://www.otodom.pl/pl/oferta/mieszkanie-na-sprzedaz-garaz-piwnica-red-park-ID4u9mw',\n",
       " 'https://www.otodom.pl/pl/oferta/piekny-apartament-z-garderoba-0pcc-ID4wcEv',\n",
       " 'https://www.otodom.pl/pl/oferta/ekskluzywny-apartament-5-min-pieszo-do-lasku-marc-ID4wjZV',\n",
       " 'https://www.otodom.pl/pl/oferta/4-pokojowe-mieszkanie-81m2-loggia-bez-prowizji-ID4un9X',\n",
       " 'https://www.otodom.pl/pl/oferta/brooklyn-loft-mieszkanie-z-przeszklona-sypialnia-ID4t6Ia',\n",
       " 'https://www.otodom.pl/pl/oferta/lgance-royale-apartament-glamour-fiqus-marcelin-ID4tPpU',\n",
       " 'https://www.otodom.pl/pl/oferta/penthouse-vibes-nowoczesne-wnetrze-taras-marcelin-ID4tPpW',\n",
       " 'https://www.otodom.pl/pl/oferta/grand-appartement-66m-przestronny-luksus-glamour-ID4tPym',\n",
       " 'https://www.otodom.pl/pl/oferta/mieszkanie-5-pak-inwestycyjny-poznan-winogrady-ID4tPyl',\n",
       " 'https://www.otodom.pl/pl/oferta/nowe-mieszkanie-deweloperskie-jasielska-poznan-ID4u9a4',\n",
       " 'https://www.otodom.pl/pl/oferta/okazja-nowe-deweloperskie-3-pokoje-66m2-brak-pcc-ID4uOj2',\n",
       " 'https://www.otodom.pl/pl/oferta/dwie-kawalerki-pakiet-nowe-gotowe-do-najmu-poznan-ID4w4pP',\n",
       " 'https://www.otodom.pl/pl/oferta/3-pokoje-winogrady-oryginalny-uklad-ID4wjYV',\n",
       " 'https://www.otodom.pl/pl/oferta/ataner-dwupokojowe-naramowicka-33-nowszy-blok-ID4wjYR',\n",
       " 'https://www.otodom.pl/pl/oferta/piekne-3-pokoje-gotowe-promocyjna-cena-do-ID4wc3H',\n",
       " 'https://www.otodom.pl/pl/oferta/poznan-winogrady-osiedle-przyjazni-10-55m2-ID4wjXN',\n",
       " 'https://www.otodom.pl/pl/oferta/3-pokojowe-mieszkanie-65m2-balkon-ID4upTj',\n",
       " 'https://www.otodom.pl/pl/oferta/klimatyczne-mieszkanie-na-jezycach-z-winda-ID4uDgJ',\n",
       " 'https://www.otodom.pl/pl/oferta/osiedle-zagajnik-mieszkanie-3-pok-49-b-ID4rnOk',\n",
       " 'https://www.otodom.pl/pl/oferta/panoramiqa-mieszkanie-3-pok-d-06-007-ID4tLia',\n",
       " 'https://www.otodom.pl/pl/oferta/wyjatkowe-mieszkanie-z-winda-przy-rynku-lazarskim-ID4wjVN',\n",
       " 'https://www.otodom.pl/pl/oferta/realne-zdjecia-bardzo-atrakcyjne-studio-ID4w9T4',\n",
       " 'https://www.otodom.pl/pl/oferta/2-pokoje-garderobastyczen-2026-ID4wjVC',\n",
       " 'https://www.otodom.pl/pl/oferta/piekne-zegrze-okazja-bezposrednio-ID4uCRG',\n",
       " 'https://www.otodom.pl/pl/oferta/nowa-swiezo-wykonczona-kawalerka-na-jezycych-ID4tOCd',\n",
       " 'https://www.otodom.pl/pl/oferta/nie-da-sie-byc-bardziej-w-centrum-ID4u4Bn',\n",
       " 'https://www.otodom.pl/pl/oferta/kanalowa-kamienica-oddzielna-sypialnia-ID4uphE',\n",
       " 'https://www.otodom.pl/pl/oferta/3-pokojowe-mieszkanie-46m2-balkon-ID4uzqX',\n",
       " 'https://www.otodom.pl/pl/oferta/os-jagiellonskie-37-6-m-2-pokoje-2-piwnice-ID4wjV2',\n",
       " 'https://www.otodom.pl/hpr/pl/oferta/katowicka-ataner-polanka-2-dwa-mieszkania-roi-6-ID4hnR5']"
      ]
     },
     "execution_count": 4,
     "metadata": {},
     "output_type": "execute_result"
    }
   ],
   "execution_count": 4
  },
  {
   "metadata": {
    "ExecuteTime": {
     "end_time": "2025-03-09T19:38:14.638343Z",
     "start_time": "2025-03-09T19:38:14.634713Z"
    }
   },
   "cell_type": "code",
   "source": [
    "# Function to extract IDs\n",
    "def get_ids(soup):\n",
    "    try:\n",
    "        id = soup.find(\"p\", attrs={\"class\": \"e1aeqjrs2 css-htq2ld\"}).text.replace('ID: ', '')\n",
    "        return id\n",
    "    except AttributeError:\n",
    "        return None\n",
    "\n",
    "\n",
    "# Function to extract Price\n",
    "def get_price(soup):\n",
    "    try:\n",
    "        price = soup.find('strong', attrs={\"class\" : \"css-1o51x5a e1k1vyr21\"}).text.replace(\" zł\", \"\").replace(\" \", \"\")\n",
    "        return price\n",
    "    except AttributeError:\n",
    "        return None\n",
    "\n",
    "\n",
    "# Function to extract Square Meters\n",
    "def get_sqm(soup):\n",
    "    try:\n",
    "        sqr_meters = soup('div', attrs={\"class\" : \"css-1ftqasz\"})[0].text\n",
    "        return sqr_meters\n",
    "    except AttributeError:\n",
    "        return None\n",
    "    \n",
    "    \n",
    "# Function to extract Number of Rooms\n",
    "def get_numer_of_rooms(soup):\n",
    "    try:\n",
    "        num_rooms = soup('div', attrs={\"class\" : \"css-1ftqasz\"})[1].text.replace(\" pokój\", \"\").replace(\" pokoje\", \"\")\n",
    "        return num_rooms\n",
    "    except AttributeError:\n",
    "        return None\n",
    "    \n",
    "    \n",
    "# Function to extract Price per Square Meters\n",
    "def get_price_per_sqm(soup):\n",
    "    try:\n",
    "        price_square_ratio = soup('div', attrs={\"class\" : \"css-z3xj2a e1k1vyr25\"})[0].text.replace(' zł/m²', '').replace(' ', '')\n",
    "        return price_square_ratio\n",
    "    except AttributeError:\n",
    "        return None\n",
    "    \n",
    "\n",
    "# Function to extract Location\n",
    "def get_location(soup):\n",
    "    try:\n",
    "        location = soup('a', attrs={\"class\" : \"css-1jjm9oe e42rcgs1\"})[0].text\n",
    "        return price\n",
    "    except AttributeError:\n",
    "        return None\n",
    "    "
   ],
   "id": "8f74aa579bd50cee",
   "outputs": [],
   "execution_count": 5
  }
 ],
 "metadata": {
  "kernelspec": {
   "display_name": "Python 3",
   "language": "python",
   "name": "python3"
  },
  "language_info": {
   "codemirror_mode": {
    "name": "ipython",
    "version": 2
   },
   "file_extension": ".py",
   "mimetype": "text/x-python",
   "name": "python",
   "nbconvert_exporter": "python",
   "pygments_lexer": "ipython2",
   "version": "2.7.6"
  }
 },
 "nbformat": 4,
 "nbformat_minor": 5
}
